{
  "nbformat": 4,
  "nbformat_minor": 0,
  "metadata": {
    "colab": {
      "name": "Big_Mart_Sale_Prediction_Pytorch.ipynb",
      "provenance": [],
      "collapsed_sections": [
        "3KNn__8lUzED",
        "OQBKuFfnVL9F",
        "c7ALTKbTfMr-",
        "9biQisddiksp",
        "np8bsqpfnv7A"
      ],
      "mount_file_id": "1u5eTsvO8in5xTOKMY9K_7eAgzL2TQ8tT",
      "authorship_tag": "ABX9TyM/U7Uzc0Ny4Grg96Y5kqxL",
      "include_colab_link": true
    },
    "kernelspec": {
      "name": "python3",
      "display_name": "Python 3"
    }
  },
  "cells": [
    {
      "cell_type": "markdown",
      "metadata": {
        "id": "view-in-github",
        "colab_type": "text"
      },
      "source": [
        "<a href=\"https://colab.research.google.com/github/Sedighe-Raeisi/Pytorch_Collection/blob/main/Big_Mart_Sale_Prediction_Pytorch.ipynb\" target=\"_parent\"><img src=\"https://colab.research.google.com/assets/colab-badge.svg\" alt=\"Open In Colab\"/></a>"
      ]
    },
    {
      "cell_type": "code",
      "metadata": {
        "id": "BT3jV5DFRFwY"
      },
      "source": [
        "#bigmart sale prediction :"
      ],
      "execution_count": 3,
      "outputs": []
    },
    {
      "cell_type": "code",
      "source": [
        "from google.colab import drive\n",
        "drive.mount('/content/drive')"
      ],
      "metadata": {
        "colab": {
          "base_uri": "https://localhost:8080/"
        },
        "id": "0NMIl61acqvg",
        "outputId": "11c1f5f9-4dee-46c9-bd98-e8886d577659"
      },
      "execution_count": 4,
      "outputs": [
        {
          "output_type": "stream",
          "name": "stdout",
          "text": [
            "Drive already mounted at /content/drive; to attempt to forcibly remount, call drive.mount(\"/content/drive\", force_remount=True).\n"
          ]
        }
      ]
    },
    {
      "cell_type": "markdown",
      "metadata": {
        "id": "3KNn__8lUzED"
      },
      "source": [
        "#Get data from kaggle:"
      ]
    },
    {
      "cell_type": "code",
      "metadata": {
        "id": "ayiU0JgJYe0U"
      },
      "source": [
        "#Dataset: https://www.kaggle.com/brijbhushannanda1979/bigmart-sales-data"
      ],
      "execution_count": 5,
      "outputs": []
    },
    {
      "cell_type": "code",
      "metadata": {
        "id": "SSRqqMGURNzr"
      },
      "source": [
        "!pip install -q kaggle"
      ],
      "execution_count": 6,
      "outputs": []
    },
    {
      "cell_type": "code",
      "metadata": {
        "id": "YyTt2d3WTdnV",
        "colab": {
          "base_uri": "https://localhost:8080/"
        },
        "outputId": "15d2db55-48e6-4f3a-cac7-f6d0a4ae4a1e"
      },
      "source": [
        "!cp '/content/drive/My Drive/kaggle.json' ~/.kaggle/"
      ],
      "execution_count": 7,
      "outputs": [
        {
          "output_type": "stream",
          "name": "stdout",
          "text": [
            "cp: cannot create regular file '/root/.kaggle/': Not a directory\n"
          ]
        }
      ]
    },
    {
      "cell_type": "code",
      "metadata": {
        "id": "D9wdgtstSh6-",
        "colab": {
          "base_uri": "https://localhost:8080/"
        },
        "outputId": "875691a1-b165-40b4-b1c2-3b87e4c70fa7"
      },
      "source": [
        " ! kaggle datasets list"
      ],
      "execution_count": 8,
      "outputs": [
        {
          "output_type": "stream",
          "name": "stdout",
          "text": [
            "Traceback (most recent call last):\n",
            "  File \"/usr/local/bin/kaggle\", line 5, in <module>\n",
            "    from kaggle.cli import main\n",
            "  File \"/usr/local/lib/python2.7/dist-packages/kaggle/__init__.py\", line 23, in <module>\n",
            "    api.authenticate()\n",
            "  File \"/usr/local/lib/python2.7/dist-packages/kaggle/api/kaggle_api_extended.py\", line 146, in authenticate\n",
            "    self.config_file, self.config_dir))\n",
            "IOError: Could not find kaggle.json. Make sure it's located in /root/.kaggle. Or use the environment method.\n"
          ]
        }
      ]
    },
    {
      "cell_type": "code",
      "metadata": {
        "colab": {
          "base_uri": "https://localhost:8080/"
        },
        "id": "fB1HNKLBRLX9",
        "outputId": "5fe45ba9-c853-4e78-e320-bc801992e817"
      },
      "source": [
        "!kaggle datasets download -d brijbhushannanda1979/bigmart-sales-data"
      ],
      "execution_count": 9,
      "outputs": [
        {
          "output_type": "stream",
          "name": "stdout",
          "text": [
            "Traceback (most recent call last):\n",
            "  File \"/usr/local/bin/kaggle\", line 5, in <module>\n",
            "    from kaggle.cli import main\n",
            "  File \"/usr/local/lib/python2.7/dist-packages/kaggle/__init__.py\", line 23, in <module>\n",
            "    api.authenticate()\n",
            "  File \"/usr/local/lib/python2.7/dist-packages/kaggle/api/kaggle_api_extended.py\", line 146, in authenticate\n",
            "    self.config_file, self.config_dir))\n",
            "IOError: Could not find kaggle.json. Make sure it's located in /root/.kaggle. Or use the environment method.\n"
          ]
        }
      ]
    },
    {
      "cell_type": "code",
      "metadata": {
        "colab": {
          "base_uri": "https://localhost:8080/"
        },
        "id": "SrnXBUVXRRou",
        "outputId": "6001314f-c71e-4215-80d9-70480b97a4bb"
      },
      "source": [
        "!unzip /content/bigmart-sales-data.zip -d /content/drive/MyDrive/MachineLearing/vidhya/Big_Mart_Sale"
      ],
      "execution_count": 10,
      "outputs": [
        {
          "output_type": "stream",
          "name": "stdout",
          "text": [
            "unzip:  cannot find or open /content/bigmart-sales-data.zip, /content/bigmart-sales-data.zip.zip or /content/bigmart-sales-data.zip.ZIP.\n"
          ]
        }
      ]
    },
    {
      "cell_type": "markdown",
      "metadata": {
        "id": "Ygk3P_7nU-_S"
      },
      "source": [
        "#Reading the dataset"
      ]
    },
    {
      "cell_type": "code",
      "metadata": {
        "id": "Dgm8KqRuUikj"
      },
      "source": [
        "import numpy as np\n",
        "import pandas as pd\n",
        "import matplotlib.pyplot as plt\n"
      ],
      "execution_count": 55,
      "outputs": []
    },
    {
      "cell_type": "code",
      "metadata": {
        "id": "aiESoJadU-YY"
      },
      "source": [
        ""
      ],
      "execution_count": 11,
      "outputs": []
    },
    {
      "cell_type": "code",
      "metadata": {
        "id": "Fx0Wms2MUXmo"
      },
      "source": [
        "#Reading the datasets"
      ],
      "execution_count": 56,
      "outputs": []
    },
    {
      "cell_type": "code",
      "metadata": {
        "id": "QtGfOkOGUfAj"
      },
      "source": [
        "df=pd.read_csv('/content/drive/MyDrive/MachineLearing/vidhya/Big_Mart_Sale/Train.csv')"
      ],
      "execution_count": 57,
      "outputs": []
    },
    {
      "cell_type": "code",
      "metadata": {
        "colab": {
          "base_uri": "https://localhost:8080/",
          "height": 357
        },
        "id": "a8F7etPsU0Ex",
        "outputId": "5488e41a-945f-46ec-cafd-dbe8d55678ad"
      },
      "source": [
        "df.head()"
      ],
      "execution_count": 58,
      "outputs": [
        {
          "output_type": "execute_result",
          "data": {
            "text/html": [
              "\n",
              "  <div id=\"df-b5761774-0f4a-4bf9-9a82-f54baa663658\">\n",
              "    <div class=\"colab-df-container\">\n",
              "      <div>\n",
              "<style scoped>\n",
              "    .dataframe tbody tr th:only-of-type {\n",
              "        vertical-align: middle;\n",
              "    }\n",
              "\n",
              "    .dataframe tbody tr th {\n",
              "        vertical-align: top;\n",
              "    }\n",
              "\n",
              "    .dataframe thead th {\n",
              "        text-align: right;\n",
              "    }\n",
              "</style>\n",
              "<table border=\"1\" class=\"dataframe\">\n",
              "  <thead>\n",
              "    <tr style=\"text-align: right;\">\n",
              "      <th></th>\n",
              "      <th>Item_Identifier</th>\n",
              "      <th>Item_Weight</th>\n",
              "      <th>Item_Fat_Content</th>\n",
              "      <th>Item_Visibility</th>\n",
              "      <th>Item_Type</th>\n",
              "      <th>Item_MRP</th>\n",
              "      <th>Outlet_Identifier</th>\n",
              "      <th>Outlet_Establishment_Year</th>\n",
              "      <th>Outlet_Size</th>\n",
              "      <th>Outlet_Location_Type</th>\n",
              "      <th>Outlet_Type</th>\n",
              "      <th>Item_Outlet_Sales</th>\n",
              "    </tr>\n",
              "  </thead>\n",
              "  <tbody>\n",
              "    <tr>\n",
              "      <th>0</th>\n",
              "      <td>FDA15</td>\n",
              "      <td>9.30</td>\n",
              "      <td>Low Fat</td>\n",
              "      <td>0.016047</td>\n",
              "      <td>Dairy</td>\n",
              "      <td>249.8092</td>\n",
              "      <td>OUT049</td>\n",
              "      <td>1999</td>\n",
              "      <td>Medium</td>\n",
              "      <td>Tier 1</td>\n",
              "      <td>Supermarket Type1</td>\n",
              "      <td>3735.1380</td>\n",
              "    </tr>\n",
              "    <tr>\n",
              "      <th>1</th>\n",
              "      <td>DRC01</td>\n",
              "      <td>5.92</td>\n",
              "      <td>Regular</td>\n",
              "      <td>0.019278</td>\n",
              "      <td>Soft Drinks</td>\n",
              "      <td>48.2692</td>\n",
              "      <td>OUT018</td>\n",
              "      <td>2009</td>\n",
              "      <td>Medium</td>\n",
              "      <td>Tier 3</td>\n",
              "      <td>Supermarket Type2</td>\n",
              "      <td>443.4228</td>\n",
              "    </tr>\n",
              "    <tr>\n",
              "      <th>2</th>\n",
              "      <td>FDN15</td>\n",
              "      <td>17.50</td>\n",
              "      <td>Low Fat</td>\n",
              "      <td>0.016760</td>\n",
              "      <td>Meat</td>\n",
              "      <td>141.6180</td>\n",
              "      <td>OUT049</td>\n",
              "      <td>1999</td>\n",
              "      <td>Medium</td>\n",
              "      <td>Tier 1</td>\n",
              "      <td>Supermarket Type1</td>\n",
              "      <td>2097.2700</td>\n",
              "    </tr>\n",
              "    <tr>\n",
              "      <th>3</th>\n",
              "      <td>FDX07</td>\n",
              "      <td>19.20</td>\n",
              "      <td>Regular</td>\n",
              "      <td>0.000000</td>\n",
              "      <td>Fruits and Vegetables</td>\n",
              "      <td>182.0950</td>\n",
              "      <td>OUT010</td>\n",
              "      <td>1998</td>\n",
              "      <td>NaN</td>\n",
              "      <td>Tier 3</td>\n",
              "      <td>Grocery Store</td>\n",
              "      <td>732.3800</td>\n",
              "    </tr>\n",
              "    <tr>\n",
              "      <th>4</th>\n",
              "      <td>NCD19</td>\n",
              "      <td>8.93</td>\n",
              "      <td>Low Fat</td>\n",
              "      <td>0.000000</td>\n",
              "      <td>Household</td>\n",
              "      <td>53.8614</td>\n",
              "      <td>OUT013</td>\n",
              "      <td>1987</td>\n",
              "      <td>High</td>\n",
              "      <td>Tier 3</td>\n",
              "      <td>Supermarket Type1</td>\n",
              "      <td>994.7052</td>\n",
              "    </tr>\n",
              "  </tbody>\n",
              "</table>\n",
              "</div>\n",
              "      <button class=\"colab-df-convert\" onclick=\"convertToInteractive('df-b5761774-0f4a-4bf9-9a82-f54baa663658')\"\n",
              "              title=\"Convert this dataframe to an interactive table.\"\n",
              "              style=\"display:none;\">\n",
              "        \n",
              "  <svg xmlns=\"http://www.w3.org/2000/svg\" height=\"24px\"viewBox=\"0 0 24 24\"\n",
              "       width=\"24px\">\n",
              "    <path d=\"M0 0h24v24H0V0z\" fill=\"none\"/>\n",
              "    <path d=\"M18.56 5.44l.94 2.06.94-2.06 2.06-.94-2.06-.94-.94-2.06-.94 2.06-2.06.94zm-11 1L8.5 8.5l.94-2.06 2.06-.94-2.06-.94L8.5 2.5l-.94 2.06-2.06.94zm10 10l.94 2.06.94-2.06 2.06-.94-2.06-.94-.94-2.06-.94 2.06-2.06.94z\"/><path d=\"M17.41 7.96l-1.37-1.37c-.4-.4-.92-.59-1.43-.59-.52 0-1.04.2-1.43.59L10.3 9.45l-7.72 7.72c-.78.78-.78 2.05 0 2.83L4 21.41c.39.39.9.59 1.41.59.51 0 1.02-.2 1.41-.59l7.78-7.78 2.81-2.81c.8-.78.8-2.07 0-2.86zM5.41 20L4 18.59l7.72-7.72 1.47 1.35L5.41 20z\"/>\n",
              "  </svg>\n",
              "      </button>\n",
              "      \n",
              "  <style>\n",
              "    .colab-df-container {\n",
              "      display:flex;\n",
              "      flex-wrap:wrap;\n",
              "      gap: 12px;\n",
              "    }\n",
              "\n",
              "    .colab-df-convert {\n",
              "      background-color: #E8F0FE;\n",
              "      border: none;\n",
              "      border-radius: 50%;\n",
              "      cursor: pointer;\n",
              "      display: none;\n",
              "      fill: #1967D2;\n",
              "      height: 32px;\n",
              "      padding: 0 0 0 0;\n",
              "      width: 32px;\n",
              "    }\n",
              "\n",
              "    .colab-df-convert:hover {\n",
              "      background-color: #E2EBFA;\n",
              "      box-shadow: 0px 1px 2px rgba(60, 64, 67, 0.3), 0px 1px 3px 1px rgba(60, 64, 67, 0.15);\n",
              "      fill: #174EA6;\n",
              "    }\n",
              "\n",
              "    [theme=dark] .colab-df-convert {\n",
              "      background-color: #3B4455;\n",
              "      fill: #D2E3FC;\n",
              "    }\n",
              "\n",
              "    [theme=dark] .colab-df-convert:hover {\n",
              "      background-color: #434B5C;\n",
              "      box-shadow: 0px 1px 3px 1px rgba(0, 0, 0, 0.15);\n",
              "      filter: drop-shadow(0px 1px 2px rgba(0, 0, 0, 0.3));\n",
              "      fill: #FFFFFF;\n",
              "    }\n",
              "  </style>\n",
              "\n",
              "      <script>\n",
              "        const buttonEl =\n",
              "          document.querySelector('#df-b5761774-0f4a-4bf9-9a82-f54baa663658 button.colab-df-convert');\n",
              "        buttonEl.style.display =\n",
              "          google.colab.kernel.accessAllowed ? 'block' : 'none';\n",
              "\n",
              "        async function convertToInteractive(key) {\n",
              "          const element = document.querySelector('#df-b5761774-0f4a-4bf9-9a82-f54baa663658');\n",
              "          const dataTable =\n",
              "            await google.colab.kernel.invokeFunction('convertToInteractive',\n",
              "                                                     [key], {});\n",
              "          if (!dataTable) return;\n",
              "\n",
              "          const docLinkHtml = 'Like what you see? Visit the ' +\n",
              "            '<a target=\"_blank\" href=https://colab.research.google.com/notebooks/data_table.ipynb>data table notebook</a>'\n",
              "            + ' to learn more about interactive tables.';\n",
              "          element.innerHTML = '';\n",
              "          dataTable['output_type'] = 'display_data';\n",
              "          await google.colab.output.renderOutput(dataTable, element);\n",
              "          const docLink = document.createElement('div');\n",
              "          docLink.innerHTML = docLinkHtml;\n",
              "          element.appendChild(docLink);\n",
              "        }\n",
              "      </script>\n",
              "    </div>\n",
              "  </div>\n",
              "  "
            ],
            "text/plain": [
              "  Item_Identifier  Item_Weight  ...        Outlet_Type  Item_Outlet_Sales\n",
              "0           FDA15         9.30  ...  Supermarket Type1          3735.1380\n",
              "1           DRC01         5.92  ...  Supermarket Type2           443.4228\n",
              "2           FDN15        17.50  ...  Supermarket Type1          2097.2700\n",
              "3           FDX07        19.20  ...      Grocery Store           732.3800\n",
              "4           NCD19         8.93  ...  Supermarket Type1           994.7052\n",
              "\n",
              "[5 rows x 12 columns]"
            ]
          },
          "metadata": {},
          "execution_count": 58
        }
      ]
    },
    {
      "cell_type": "markdown",
      "metadata": {
        "id": "Q-71D7poVFm1"
      },
      "source": [
        "#Cleaning the datas"
      ]
    },
    {
      "cell_type": "code",
      "metadata": {
        "colab": {
          "base_uri": "https://localhost:8080/"
        },
        "id": "w59qJG3_VEyJ",
        "outputId": "6a17087a-d84c-4b49-c883-a666277861ba"
      },
      "source": [
        "df.isnull().sum()"
      ],
      "execution_count": 59,
      "outputs": [
        {
          "output_type": "execute_result",
          "data": {
            "text/plain": [
              "Item_Identifier                 0\n",
              "Item_Weight                  1463\n",
              "Item_Fat_Content                0\n",
              "Item_Visibility                 0\n",
              "Item_Type                       0\n",
              "Item_MRP                        0\n",
              "Outlet_Identifier               0\n",
              "Outlet_Establishment_Year       0\n",
              "Outlet_Size                  2410\n",
              "Outlet_Location_Type            0\n",
              "Outlet_Type                     0\n",
              "Item_Outlet_Sales               0\n",
              "dtype: int64"
            ]
          },
          "metadata": {},
          "execution_count": 59
        }
      ]
    },
    {
      "cell_type": "code",
      "metadata": {
        "id": "wE3F8zC3WeE2"
      },
      "source": [
        "df.Item_Weight.fillna(df.Item_Weight.mean(),inplace=True)\n",
        "df.Outlet_Size.fillna(df.Outlet_Size.mode()[0],inplace=True)"
      ],
      "execution_count": 60,
      "outputs": []
    },
    {
      "cell_type": "code",
      "metadata": {
        "colab": {
          "base_uri": "https://localhost:8080/"
        },
        "id": "Je-re4t7XscI",
        "outputId": "6cea89f3-2728-4c04-ae47-40bacd9c3987"
      },
      "source": [
        "df.isnull().sum()"
      ],
      "execution_count": 61,
      "outputs": [
        {
          "output_type": "execute_result",
          "data": {
            "text/plain": [
              "Item_Identifier              0\n",
              "Item_Weight                  0\n",
              "Item_Fat_Content             0\n",
              "Item_Visibility              0\n",
              "Item_Type                    0\n",
              "Item_MRP                     0\n",
              "Outlet_Identifier            0\n",
              "Outlet_Establishment_Year    0\n",
              "Outlet_Size                  0\n",
              "Outlet_Location_Type         0\n",
              "Outlet_Type                  0\n",
              "Item_Outlet_Sales            0\n",
              "dtype: int64"
            ]
          },
          "metadata": {},
          "execution_count": 61
        }
      ]
    },
    {
      "cell_type": "code",
      "metadata": {
        "id": "hRjoMrD8Xvto"
      },
      "source": [
        "#Preproccessing :"
      ],
      "execution_count": 62,
      "outputs": []
    },
    {
      "cell_type": "code",
      "metadata": {
        "colab": {
          "base_uri": "https://localhost:8080/"
        },
        "id": "ozZbMBi0YGGQ",
        "outputId": "ddd1deb9-ae89-4f3e-acc3-00658cdf6ca8"
      },
      "source": [
        "for i in df.columns[1:]:\n",
        "  if (df[i].dtype)=='object':\n",
        "    \n",
        "    print(i,set(df[i]))"
      ],
      "execution_count": 63,
      "outputs": [
        {
          "output_type": "stream",
          "name": "stdout",
          "text": [
            "Item_Fat_Content {'reg', 'LF', 'Low Fat', 'low fat', 'Regular'}\n",
            "Item_Type {'Fruits and Vegetables', 'Seafood', 'Baking Goods', 'Snack Foods', 'Canned', 'Starchy Foods', 'Hard Drinks', 'Health and Hygiene', 'Frozen Foods', 'Dairy', 'Soft Drinks', 'Breakfast', 'Others', 'Breads', 'Household', 'Meat'}\n",
            "Outlet_Identifier {'OUT046', 'OUT045', 'OUT027', 'OUT013', 'OUT017', 'OUT035', 'OUT019', 'OUT018', 'OUT049', 'OUT010'}\n",
            "Outlet_Size {'High', 'Medium', 'Small'}\n",
            "Outlet_Location_Type {'Tier 1', 'Tier 3', 'Tier 2'}\n",
            "Outlet_Type {'Supermarket Type1', 'Supermarket Type2', 'Supermarket Type3', 'Grocery Store'}\n"
          ]
        }
      ]
    },
    {
      "cell_type": "code",
      "metadata": {
        "colab": {
          "base_uri": "https://localhost:8080/"
        },
        "id": "uegCKAR4mq58",
        "outputId": "325356e7-21cd-42e9-a275-4902a4dc7317"
      },
      "source": [
        "obj_col=list()\n",
        "for i in df.columns[1:]:\n",
        "  if (df[i].dtype)=='object':\n",
        "    \n",
        "    obj_col.append(i)\n",
        "obj_col"
      ],
      "execution_count": 64,
      "outputs": [
        {
          "output_type": "execute_result",
          "data": {
            "text/plain": [
              "['Item_Fat_Content',\n",
              " 'Item_Type',\n",
              " 'Outlet_Identifier',\n",
              " 'Outlet_Size',\n",
              " 'Outlet_Location_Type',\n",
              " 'Outlet_Type']"
            ]
          },
          "metadata": {},
          "execution_count": 64
        }
      ]
    },
    {
      "cell_type": "code",
      "metadata": {
        "id": "ZqzF9e_MnB0l"
      },
      "source": [
        "df=pd.get_dummies(df,columns=obj_col)"
      ],
      "execution_count": 65,
      "outputs": []
    },
    {
      "cell_type": "code",
      "metadata": {
        "colab": {
          "base_uri": "https://localhost:8080/"
        },
        "id": "NW7ICN3nnKJK",
        "outputId": "f5524317-8d49-4009-bc19-92c09d3e81a9"
      },
      "source": [
        "df.dtypes"
      ],
      "execution_count": 66,
      "outputs": [
        {
          "output_type": "execute_result",
          "data": {
            "text/plain": [
              "Item_Identifier                     object\n",
              "Item_Weight                        float64\n",
              "Item_Visibility                    float64\n",
              "Item_MRP                           float64\n",
              "Outlet_Establishment_Year            int64\n",
              "Item_Outlet_Sales                  float64\n",
              "Item_Fat_Content_LF                  uint8\n",
              "Item_Fat_Content_Low Fat             uint8\n",
              "Item_Fat_Content_Regular             uint8\n",
              "Item_Fat_Content_low fat             uint8\n",
              "Item_Fat_Content_reg                 uint8\n",
              "Item_Type_Baking Goods               uint8\n",
              "Item_Type_Breads                     uint8\n",
              "Item_Type_Breakfast                  uint8\n",
              "Item_Type_Canned                     uint8\n",
              "Item_Type_Dairy                      uint8\n",
              "Item_Type_Frozen Foods               uint8\n",
              "Item_Type_Fruits and Vegetables      uint8\n",
              "Item_Type_Hard Drinks                uint8\n",
              "Item_Type_Health and Hygiene         uint8\n",
              "Item_Type_Household                  uint8\n",
              "Item_Type_Meat                       uint8\n",
              "Item_Type_Others                     uint8\n",
              "Item_Type_Seafood                    uint8\n",
              "Item_Type_Snack Foods                uint8\n",
              "Item_Type_Soft Drinks                uint8\n",
              "Item_Type_Starchy Foods              uint8\n",
              "Outlet_Identifier_OUT010             uint8\n",
              "Outlet_Identifier_OUT013             uint8\n",
              "Outlet_Identifier_OUT017             uint8\n",
              "Outlet_Identifier_OUT018             uint8\n",
              "Outlet_Identifier_OUT019             uint8\n",
              "Outlet_Identifier_OUT027             uint8\n",
              "Outlet_Identifier_OUT035             uint8\n",
              "Outlet_Identifier_OUT045             uint8\n",
              "Outlet_Identifier_OUT046             uint8\n",
              "Outlet_Identifier_OUT049             uint8\n",
              "Outlet_Size_High                     uint8\n",
              "Outlet_Size_Medium                   uint8\n",
              "Outlet_Size_Small                    uint8\n",
              "Outlet_Location_Type_Tier 1          uint8\n",
              "Outlet_Location_Type_Tier 2          uint8\n",
              "Outlet_Location_Type_Tier 3          uint8\n",
              "Outlet_Type_Grocery Store            uint8\n",
              "Outlet_Type_Supermarket Type1        uint8\n",
              "Outlet_Type_Supermarket Type2        uint8\n",
              "Outlet_Type_Supermarket Type3        uint8\n",
              "dtype: object"
            ]
          },
          "metadata": {},
          "execution_count": 66
        }
      ]
    },
    {
      "cell_type": "code",
      "metadata": {
        "colab": {
          "base_uri": "https://localhost:8080/"
        },
        "id": "_UvoO55gYN0F",
        "outputId": "61dc4adf-d44c-46e4-e628-e1e86e94e83e"
      },
      "source": [
        "for i in df.columns[1:]:\n",
        "  print('len of set of {}='.format(i),len(set(df[i])))"
      ],
      "execution_count": 67,
      "outputs": [
        {
          "output_type": "stream",
          "name": "stdout",
          "text": [
            "len of set of Item_Weight= 416\n",
            "len of set of Item_Visibility= 7880\n",
            "len of set of Item_MRP= 5938\n",
            "len of set of Outlet_Establishment_Year= 9\n",
            "len of set of Item_Outlet_Sales= 3493\n",
            "len of set of Item_Fat_Content_LF= 2\n",
            "len of set of Item_Fat_Content_Low Fat= 2\n",
            "len of set of Item_Fat_Content_Regular= 2\n",
            "len of set of Item_Fat_Content_low fat= 2\n",
            "len of set of Item_Fat_Content_reg= 2\n",
            "len of set of Item_Type_Baking Goods= 2\n",
            "len of set of Item_Type_Breads= 2\n",
            "len of set of Item_Type_Breakfast= 2\n",
            "len of set of Item_Type_Canned= 2\n",
            "len of set of Item_Type_Dairy= 2\n",
            "len of set of Item_Type_Frozen Foods= 2\n",
            "len of set of Item_Type_Fruits and Vegetables= 2\n",
            "len of set of Item_Type_Hard Drinks= 2\n",
            "len of set of Item_Type_Health and Hygiene= 2\n",
            "len of set of Item_Type_Household= 2\n",
            "len of set of Item_Type_Meat= 2\n",
            "len of set of Item_Type_Others= 2\n",
            "len of set of Item_Type_Seafood= 2\n",
            "len of set of Item_Type_Snack Foods= 2\n",
            "len of set of Item_Type_Soft Drinks= 2\n",
            "len of set of Item_Type_Starchy Foods= 2\n",
            "len of set of Outlet_Identifier_OUT010= 2\n",
            "len of set of Outlet_Identifier_OUT013= 2\n",
            "len of set of Outlet_Identifier_OUT017= 2\n",
            "len of set of Outlet_Identifier_OUT018= 2\n",
            "len of set of Outlet_Identifier_OUT019= 2\n",
            "len of set of Outlet_Identifier_OUT027= 2\n",
            "len of set of Outlet_Identifier_OUT035= 2\n",
            "len of set of Outlet_Identifier_OUT045= 2\n",
            "len of set of Outlet_Identifier_OUT046= 2\n",
            "len of set of Outlet_Identifier_OUT049= 2\n",
            "len of set of Outlet_Size_High= 2\n",
            "len of set of Outlet_Size_Medium= 2\n",
            "len of set of Outlet_Size_Small= 2\n",
            "len of set of Outlet_Location_Type_Tier 1= 2\n",
            "len of set of Outlet_Location_Type_Tier 2= 2\n",
            "len of set of Outlet_Location_Type_Tier 3= 2\n",
            "len of set of Outlet_Type_Grocery Store= 2\n",
            "len of set of Outlet_Type_Supermarket Type1= 2\n",
            "len of set of Outlet_Type_Supermarket Type2= 2\n",
            "len of set of Outlet_Type_Supermarket Type3= 2\n"
          ]
        }
      ]
    },
    {
      "cell_type": "code",
      "metadata": {
        "colab": {
          "base_uri": "https://localhost:8080/",
          "height": 381
        },
        "id": "SdQNTTPiofjj",
        "outputId": "1346bf53-3a39-4728-bae5-90c37df054a9"
      },
      "source": [
        "df.describe()"
      ],
      "execution_count": 68,
      "outputs": [
        {
          "output_type": "execute_result",
          "data": {
            "text/html": [
              "\n",
              "  <div id=\"df-154082d2-65e8-4d34-8cb6-328494c2603c\">\n",
              "    <div class=\"colab-df-container\">\n",
              "      <div>\n",
              "<style scoped>\n",
              "    .dataframe tbody tr th:only-of-type {\n",
              "        vertical-align: middle;\n",
              "    }\n",
              "\n",
              "    .dataframe tbody tr th {\n",
              "        vertical-align: top;\n",
              "    }\n",
              "\n",
              "    .dataframe thead th {\n",
              "        text-align: right;\n",
              "    }\n",
              "</style>\n",
              "<table border=\"1\" class=\"dataframe\">\n",
              "  <thead>\n",
              "    <tr style=\"text-align: right;\">\n",
              "      <th></th>\n",
              "      <th>Item_Weight</th>\n",
              "      <th>Item_Visibility</th>\n",
              "      <th>Item_MRP</th>\n",
              "      <th>Outlet_Establishment_Year</th>\n",
              "      <th>Item_Outlet_Sales</th>\n",
              "      <th>Item_Fat_Content_LF</th>\n",
              "      <th>Item_Fat_Content_Low Fat</th>\n",
              "      <th>Item_Fat_Content_Regular</th>\n",
              "      <th>Item_Fat_Content_low fat</th>\n",
              "      <th>Item_Fat_Content_reg</th>\n",
              "      <th>Item_Type_Baking Goods</th>\n",
              "      <th>Item_Type_Breads</th>\n",
              "      <th>Item_Type_Breakfast</th>\n",
              "      <th>Item_Type_Canned</th>\n",
              "      <th>Item_Type_Dairy</th>\n",
              "      <th>Item_Type_Frozen Foods</th>\n",
              "      <th>Item_Type_Fruits and Vegetables</th>\n",
              "      <th>Item_Type_Hard Drinks</th>\n",
              "      <th>Item_Type_Health and Hygiene</th>\n",
              "      <th>Item_Type_Household</th>\n",
              "      <th>Item_Type_Meat</th>\n",
              "      <th>Item_Type_Others</th>\n",
              "      <th>Item_Type_Seafood</th>\n",
              "      <th>Item_Type_Snack Foods</th>\n",
              "      <th>Item_Type_Soft Drinks</th>\n",
              "      <th>Item_Type_Starchy Foods</th>\n",
              "      <th>Outlet_Identifier_OUT010</th>\n",
              "      <th>Outlet_Identifier_OUT013</th>\n",
              "      <th>Outlet_Identifier_OUT017</th>\n",
              "      <th>Outlet_Identifier_OUT018</th>\n",
              "      <th>Outlet_Identifier_OUT019</th>\n",
              "      <th>Outlet_Identifier_OUT027</th>\n",
              "      <th>Outlet_Identifier_OUT035</th>\n",
              "      <th>Outlet_Identifier_OUT045</th>\n",
              "      <th>Outlet_Identifier_OUT046</th>\n",
              "      <th>Outlet_Identifier_OUT049</th>\n",
              "      <th>Outlet_Size_High</th>\n",
              "      <th>Outlet_Size_Medium</th>\n",
              "      <th>Outlet_Size_Small</th>\n",
              "      <th>Outlet_Location_Type_Tier 1</th>\n",
              "      <th>Outlet_Location_Type_Tier 2</th>\n",
              "      <th>Outlet_Location_Type_Tier 3</th>\n",
              "      <th>Outlet_Type_Grocery Store</th>\n",
              "      <th>Outlet_Type_Supermarket Type1</th>\n",
              "      <th>Outlet_Type_Supermarket Type2</th>\n",
              "      <th>Outlet_Type_Supermarket Type3</th>\n",
              "    </tr>\n",
              "  </thead>\n",
              "  <tbody>\n",
              "    <tr>\n",
              "      <th>count</th>\n",
              "      <td>8523.000000</td>\n",
              "      <td>8523.000000</td>\n",
              "      <td>8523.000000</td>\n",
              "      <td>8523.000000</td>\n",
              "      <td>8523.000000</td>\n",
              "      <td>8523.000000</td>\n",
              "      <td>8523.000000</td>\n",
              "      <td>8523.000000</td>\n",
              "      <td>8523.000000</td>\n",
              "      <td>8523.000000</td>\n",
              "      <td>8523.000000</td>\n",
              "      <td>8523.000000</td>\n",
              "      <td>8523.000000</td>\n",
              "      <td>8523.000000</td>\n",
              "      <td>8523.000000</td>\n",
              "      <td>8523.000000</td>\n",
              "      <td>8523.000000</td>\n",
              "      <td>8523.000000</td>\n",
              "      <td>8523.000000</td>\n",
              "      <td>8523.000000</td>\n",
              "      <td>8523.000000</td>\n",
              "      <td>8523.000000</td>\n",
              "      <td>8523.000000</td>\n",
              "      <td>8523.000000</td>\n",
              "      <td>8523.000000</td>\n",
              "      <td>8523.000000</td>\n",
              "      <td>8523.000000</td>\n",
              "      <td>8523.000000</td>\n",
              "      <td>8523.000000</td>\n",
              "      <td>8523.000000</td>\n",
              "      <td>8523.000000</td>\n",
              "      <td>8523.000000</td>\n",
              "      <td>8523.000000</td>\n",
              "      <td>8523.000000</td>\n",
              "      <td>8523.000000</td>\n",
              "      <td>8523.000000</td>\n",
              "      <td>8523.000000</td>\n",
              "      <td>8523.000000</td>\n",
              "      <td>8523.000000</td>\n",
              "      <td>8523.000000</td>\n",
              "      <td>8523.000000</td>\n",
              "      <td>8523.000000</td>\n",
              "      <td>8523.000000</td>\n",
              "      <td>8523.000000</td>\n",
              "      <td>8523.000000</td>\n",
              "      <td>8523.000000</td>\n",
              "    </tr>\n",
              "    <tr>\n",
              "      <th>mean</th>\n",
              "      <td>12.857645</td>\n",
              "      <td>0.066132</td>\n",
              "      <td>140.992782</td>\n",
              "      <td>1997.831867</td>\n",
              "      <td>2181.288914</td>\n",
              "      <td>0.037076</td>\n",
              "      <td>0.597090</td>\n",
              "      <td>0.338965</td>\n",
              "      <td>0.013141</td>\n",
              "      <td>0.013728</td>\n",
              "      <td>0.076030</td>\n",
              "      <td>0.029450</td>\n",
              "      <td>0.012906</td>\n",
              "      <td>0.076147</td>\n",
              "      <td>0.080019</td>\n",
              "      <td>0.100434</td>\n",
              "      <td>0.144550</td>\n",
              "      <td>0.025109</td>\n",
              "      <td>0.061011</td>\n",
              "      <td>0.106770</td>\n",
              "      <td>0.049865</td>\n",
              "      <td>0.019829</td>\n",
              "      <td>0.007509</td>\n",
              "      <td>0.140795</td>\n",
              "      <td>0.052212</td>\n",
              "      <td>0.017365</td>\n",
              "      <td>0.065118</td>\n",
              "      <td>0.109351</td>\n",
              "      <td>0.108647</td>\n",
              "      <td>0.108882</td>\n",
              "      <td>0.061950</td>\n",
              "      <td>0.109703</td>\n",
              "      <td>0.109117</td>\n",
              "      <td>0.108999</td>\n",
              "      <td>0.109117</td>\n",
              "      <td>0.109117</td>\n",
              "      <td>0.109351</td>\n",
              "      <td>0.610466</td>\n",
              "      <td>0.280183</td>\n",
              "      <td>0.280183</td>\n",
              "      <td>0.326763</td>\n",
              "      <td>0.393054</td>\n",
              "      <td>0.127068</td>\n",
              "      <td>0.654347</td>\n",
              "      <td>0.108882</td>\n",
              "      <td>0.109703</td>\n",
              "    </tr>\n",
              "    <tr>\n",
              "      <th>std</th>\n",
              "      <td>4.226124</td>\n",
              "      <td>0.051598</td>\n",
              "      <td>62.275067</td>\n",
              "      <td>8.371760</td>\n",
              "      <td>1706.499616</td>\n",
              "      <td>0.188960</td>\n",
              "      <td>0.490512</td>\n",
              "      <td>0.473386</td>\n",
              "      <td>0.113885</td>\n",
              "      <td>0.116365</td>\n",
              "      <td>0.265061</td>\n",
              "      <td>0.169073</td>\n",
              "      <td>0.112877</td>\n",
              "      <td>0.265249</td>\n",
              "      <td>0.271338</td>\n",
              "      <td>0.300596</td>\n",
              "      <td>0.351667</td>\n",
              "      <td>0.156464</td>\n",
              "      <td>0.239365</td>\n",
              "      <td>0.308839</td>\n",
              "      <td>0.217679</td>\n",
              "      <td>0.139420</td>\n",
              "      <td>0.086334</td>\n",
              "      <td>0.347831</td>\n",
              "      <td>0.222467</td>\n",
              "      <td>0.130634</td>\n",
              "      <td>0.246748</td>\n",
              "      <td>0.312098</td>\n",
              "      <td>0.311214</td>\n",
              "      <td>0.311509</td>\n",
              "      <td>0.241079</td>\n",
              "      <td>0.312538</td>\n",
              "      <td>0.311804</td>\n",
              "      <td>0.311656</td>\n",
              "      <td>0.311804</td>\n",
              "      <td>0.311804</td>\n",
              "      <td>0.312098</td>\n",
              "      <td>0.487673</td>\n",
              "      <td>0.449115</td>\n",
              "      <td>0.449115</td>\n",
              "      <td>0.469057</td>\n",
              "      <td>0.488457</td>\n",
              "      <td>0.333069</td>\n",
              "      <td>0.475609</td>\n",
              "      <td>0.311509</td>\n",
              "      <td>0.312538</td>\n",
              "    </tr>\n",
              "    <tr>\n",
              "      <th>min</th>\n",
              "      <td>4.555000</td>\n",
              "      <td>0.000000</td>\n",
              "      <td>31.290000</td>\n",
              "      <td>1985.000000</td>\n",
              "      <td>33.290000</td>\n",
              "      <td>0.000000</td>\n",
              "      <td>0.000000</td>\n",
              "      <td>0.000000</td>\n",
              "      <td>0.000000</td>\n",
              "      <td>0.000000</td>\n",
              "      <td>0.000000</td>\n",
              "      <td>0.000000</td>\n",
              "      <td>0.000000</td>\n",
              "      <td>0.000000</td>\n",
              "      <td>0.000000</td>\n",
              "      <td>0.000000</td>\n",
              "      <td>0.000000</td>\n",
              "      <td>0.000000</td>\n",
              "      <td>0.000000</td>\n",
              "      <td>0.000000</td>\n",
              "      <td>0.000000</td>\n",
              "      <td>0.000000</td>\n",
              "      <td>0.000000</td>\n",
              "      <td>0.000000</td>\n",
              "      <td>0.000000</td>\n",
              "      <td>0.000000</td>\n",
              "      <td>0.000000</td>\n",
              "      <td>0.000000</td>\n",
              "      <td>0.000000</td>\n",
              "      <td>0.000000</td>\n",
              "      <td>0.000000</td>\n",
              "      <td>0.000000</td>\n",
              "      <td>0.000000</td>\n",
              "      <td>0.000000</td>\n",
              "      <td>0.000000</td>\n",
              "      <td>0.000000</td>\n",
              "      <td>0.000000</td>\n",
              "      <td>0.000000</td>\n",
              "      <td>0.000000</td>\n",
              "      <td>0.000000</td>\n",
              "      <td>0.000000</td>\n",
              "      <td>0.000000</td>\n",
              "      <td>0.000000</td>\n",
              "      <td>0.000000</td>\n",
              "      <td>0.000000</td>\n",
              "      <td>0.000000</td>\n",
              "    </tr>\n",
              "    <tr>\n",
              "      <th>25%</th>\n",
              "      <td>9.310000</td>\n",
              "      <td>0.026989</td>\n",
              "      <td>93.826500</td>\n",
              "      <td>1987.000000</td>\n",
              "      <td>834.247400</td>\n",
              "      <td>0.000000</td>\n",
              "      <td>0.000000</td>\n",
              "      <td>0.000000</td>\n",
              "      <td>0.000000</td>\n",
              "      <td>0.000000</td>\n",
              "      <td>0.000000</td>\n",
              "      <td>0.000000</td>\n",
              "      <td>0.000000</td>\n",
              "      <td>0.000000</td>\n",
              "      <td>0.000000</td>\n",
              "      <td>0.000000</td>\n",
              "      <td>0.000000</td>\n",
              "      <td>0.000000</td>\n",
              "      <td>0.000000</td>\n",
              "      <td>0.000000</td>\n",
              "      <td>0.000000</td>\n",
              "      <td>0.000000</td>\n",
              "      <td>0.000000</td>\n",
              "      <td>0.000000</td>\n",
              "      <td>0.000000</td>\n",
              "      <td>0.000000</td>\n",
              "      <td>0.000000</td>\n",
              "      <td>0.000000</td>\n",
              "      <td>0.000000</td>\n",
              "      <td>0.000000</td>\n",
              "      <td>0.000000</td>\n",
              "      <td>0.000000</td>\n",
              "      <td>0.000000</td>\n",
              "      <td>0.000000</td>\n",
              "      <td>0.000000</td>\n",
              "      <td>0.000000</td>\n",
              "      <td>0.000000</td>\n",
              "      <td>0.000000</td>\n",
              "      <td>0.000000</td>\n",
              "      <td>0.000000</td>\n",
              "      <td>0.000000</td>\n",
              "      <td>0.000000</td>\n",
              "      <td>0.000000</td>\n",
              "      <td>0.000000</td>\n",
              "      <td>0.000000</td>\n",
              "      <td>0.000000</td>\n",
              "    </tr>\n",
              "    <tr>\n",
              "      <th>50%</th>\n",
              "      <td>12.857645</td>\n",
              "      <td>0.053931</td>\n",
              "      <td>143.012800</td>\n",
              "      <td>1999.000000</td>\n",
              "      <td>1794.331000</td>\n",
              "      <td>0.000000</td>\n",
              "      <td>1.000000</td>\n",
              "      <td>0.000000</td>\n",
              "      <td>0.000000</td>\n",
              "      <td>0.000000</td>\n",
              "      <td>0.000000</td>\n",
              "      <td>0.000000</td>\n",
              "      <td>0.000000</td>\n",
              "      <td>0.000000</td>\n",
              "      <td>0.000000</td>\n",
              "      <td>0.000000</td>\n",
              "      <td>0.000000</td>\n",
              "      <td>0.000000</td>\n",
              "      <td>0.000000</td>\n",
              "      <td>0.000000</td>\n",
              "      <td>0.000000</td>\n",
              "      <td>0.000000</td>\n",
              "      <td>0.000000</td>\n",
              "      <td>0.000000</td>\n",
              "      <td>0.000000</td>\n",
              "      <td>0.000000</td>\n",
              "      <td>0.000000</td>\n",
              "      <td>0.000000</td>\n",
              "      <td>0.000000</td>\n",
              "      <td>0.000000</td>\n",
              "      <td>0.000000</td>\n",
              "      <td>0.000000</td>\n",
              "      <td>0.000000</td>\n",
              "      <td>0.000000</td>\n",
              "      <td>0.000000</td>\n",
              "      <td>0.000000</td>\n",
              "      <td>0.000000</td>\n",
              "      <td>1.000000</td>\n",
              "      <td>0.000000</td>\n",
              "      <td>0.000000</td>\n",
              "      <td>0.000000</td>\n",
              "      <td>0.000000</td>\n",
              "      <td>0.000000</td>\n",
              "      <td>1.000000</td>\n",
              "      <td>0.000000</td>\n",
              "      <td>0.000000</td>\n",
              "    </tr>\n",
              "    <tr>\n",
              "      <th>75%</th>\n",
              "      <td>16.000000</td>\n",
              "      <td>0.094585</td>\n",
              "      <td>185.643700</td>\n",
              "      <td>2004.000000</td>\n",
              "      <td>3101.296400</td>\n",
              "      <td>0.000000</td>\n",
              "      <td>1.000000</td>\n",
              "      <td>1.000000</td>\n",
              "      <td>0.000000</td>\n",
              "      <td>0.000000</td>\n",
              "      <td>0.000000</td>\n",
              "      <td>0.000000</td>\n",
              "      <td>0.000000</td>\n",
              "      <td>0.000000</td>\n",
              "      <td>0.000000</td>\n",
              "      <td>0.000000</td>\n",
              "      <td>0.000000</td>\n",
              "      <td>0.000000</td>\n",
              "      <td>0.000000</td>\n",
              "      <td>0.000000</td>\n",
              "      <td>0.000000</td>\n",
              "      <td>0.000000</td>\n",
              "      <td>0.000000</td>\n",
              "      <td>0.000000</td>\n",
              "      <td>0.000000</td>\n",
              "      <td>0.000000</td>\n",
              "      <td>0.000000</td>\n",
              "      <td>0.000000</td>\n",
              "      <td>0.000000</td>\n",
              "      <td>0.000000</td>\n",
              "      <td>0.000000</td>\n",
              "      <td>0.000000</td>\n",
              "      <td>0.000000</td>\n",
              "      <td>0.000000</td>\n",
              "      <td>0.000000</td>\n",
              "      <td>0.000000</td>\n",
              "      <td>0.000000</td>\n",
              "      <td>1.000000</td>\n",
              "      <td>1.000000</td>\n",
              "      <td>1.000000</td>\n",
              "      <td>1.000000</td>\n",
              "      <td>1.000000</td>\n",
              "      <td>0.000000</td>\n",
              "      <td>1.000000</td>\n",
              "      <td>0.000000</td>\n",
              "      <td>0.000000</td>\n",
              "    </tr>\n",
              "    <tr>\n",
              "      <th>max</th>\n",
              "      <td>21.350000</td>\n",
              "      <td>0.328391</td>\n",
              "      <td>266.888400</td>\n",
              "      <td>2009.000000</td>\n",
              "      <td>13086.964800</td>\n",
              "      <td>1.000000</td>\n",
              "      <td>1.000000</td>\n",
              "      <td>1.000000</td>\n",
              "      <td>1.000000</td>\n",
              "      <td>1.000000</td>\n",
              "      <td>1.000000</td>\n",
              "      <td>1.000000</td>\n",
              "      <td>1.000000</td>\n",
              "      <td>1.000000</td>\n",
              "      <td>1.000000</td>\n",
              "      <td>1.000000</td>\n",
              "      <td>1.000000</td>\n",
              "      <td>1.000000</td>\n",
              "      <td>1.000000</td>\n",
              "      <td>1.000000</td>\n",
              "      <td>1.000000</td>\n",
              "      <td>1.000000</td>\n",
              "      <td>1.000000</td>\n",
              "      <td>1.000000</td>\n",
              "      <td>1.000000</td>\n",
              "      <td>1.000000</td>\n",
              "      <td>1.000000</td>\n",
              "      <td>1.000000</td>\n",
              "      <td>1.000000</td>\n",
              "      <td>1.000000</td>\n",
              "      <td>1.000000</td>\n",
              "      <td>1.000000</td>\n",
              "      <td>1.000000</td>\n",
              "      <td>1.000000</td>\n",
              "      <td>1.000000</td>\n",
              "      <td>1.000000</td>\n",
              "      <td>1.000000</td>\n",
              "      <td>1.000000</td>\n",
              "      <td>1.000000</td>\n",
              "      <td>1.000000</td>\n",
              "      <td>1.000000</td>\n",
              "      <td>1.000000</td>\n",
              "      <td>1.000000</td>\n",
              "      <td>1.000000</td>\n",
              "      <td>1.000000</td>\n",
              "      <td>1.000000</td>\n",
              "    </tr>\n",
              "  </tbody>\n",
              "</table>\n",
              "</div>\n",
              "      <button class=\"colab-df-convert\" onclick=\"convertToInteractive('df-154082d2-65e8-4d34-8cb6-328494c2603c')\"\n",
              "              title=\"Convert this dataframe to an interactive table.\"\n",
              "              style=\"display:none;\">\n",
              "        \n",
              "  <svg xmlns=\"http://www.w3.org/2000/svg\" height=\"24px\"viewBox=\"0 0 24 24\"\n",
              "       width=\"24px\">\n",
              "    <path d=\"M0 0h24v24H0V0z\" fill=\"none\"/>\n",
              "    <path d=\"M18.56 5.44l.94 2.06.94-2.06 2.06-.94-2.06-.94-.94-2.06-.94 2.06-2.06.94zm-11 1L8.5 8.5l.94-2.06 2.06-.94-2.06-.94L8.5 2.5l-.94 2.06-2.06.94zm10 10l.94 2.06.94-2.06 2.06-.94-2.06-.94-.94-2.06-.94 2.06-2.06.94z\"/><path d=\"M17.41 7.96l-1.37-1.37c-.4-.4-.92-.59-1.43-.59-.52 0-1.04.2-1.43.59L10.3 9.45l-7.72 7.72c-.78.78-.78 2.05 0 2.83L4 21.41c.39.39.9.59 1.41.59.51 0 1.02-.2 1.41-.59l7.78-7.78 2.81-2.81c.8-.78.8-2.07 0-2.86zM5.41 20L4 18.59l7.72-7.72 1.47 1.35L5.41 20z\"/>\n",
              "  </svg>\n",
              "      </button>\n",
              "      \n",
              "  <style>\n",
              "    .colab-df-container {\n",
              "      display:flex;\n",
              "      flex-wrap:wrap;\n",
              "      gap: 12px;\n",
              "    }\n",
              "\n",
              "    .colab-df-convert {\n",
              "      background-color: #E8F0FE;\n",
              "      border: none;\n",
              "      border-radius: 50%;\n",
              "      cursor: pointer;\n",
              "      display: none;\n",
              "      fill: #1967D2;\n",
              "      height: 32px;\n",
              "      padding: 0 0 0 0;\n",
              "      width: 32px;\n",
              "    }\n",
              "\n",
              "    .colab-df-convert:hover {\n",
              "      background-color: #E2EBFA;\n",
              "      box-shadow: 0px 1px 2px rgba(60, 64, 67, 0.3), 0px 1px 3px 1px rgba(60, 64, 67, 0.15);\n",
              "      fill: #174EA6;\n",
              "    }\n",
              "\n",
              "    [theme=dark] .colab-df-convert {\n",
              "      background-color: #3B4455;\n",
              "      fill: #D2E3FC;\n",
              "    }\n",
              "\n",
              "    [theme=dark] .colab-df-convert:hover {\n",
              "      background-color: #434B5C;\n",
              "      box-shadow: 0px 1px 3px 1px rgba(0, 0, 0, 0.15);\n",
              "      filter: drop-shadow(0px 1px 2px rgba(0, 0, 0, 0.3));\n",
              "      fill: #FFFFFF;\n",
              "    }\n",
              "  </style>\n",
              "\n",
              "      <script>\n",
              "        const buttonEl =\n",
              "          document.querySelector('#df-154082d2-65e8-4d34-8cb6-328494c2603c button.colab-df-convert');\n",
              "        buttonEl.style.display =\n",
              "          google.colab.kernel.accessAllowed ? 'block' : 'none';\n",
              "\n",
              "        async function convertToInteractive(key) {\n",
              "          const element = document.querySelector('#df-154082d2-65e8-4d34-8cb6-328494c2603c');\n",
              "          const dataTable =\n",
              "            await google.colab.kernel.invokeFunction('convertToInteractive',\n",
              "                                                     [key], {});\n",
              "          if (!dataTable) return;\n",
              "\n",
              "          const docLinkHtml = 'Like what you see? Visit the ' +\n",
              "            '<a target=\"_blank\" href=https://colab.research.google.com/notebooks/data_table.ipynb>data table notebook</a>'\n",
              "            + ' to learn more about interactive tables.';\n",
              "          element.innerHTML = '';\n",
              "          dataTable['output_type'] = 'display_data';\n",
              "          await google.colab.output.renderOutput(dataTable, element);\n",
              "          const docLink = document.createElement('div');\n",
              "          docLink.innerHTML = docLinkHtml;\n",
              "          element.appendChild(docLink);\n",
              "        }\n",
              "      </script>\n",
              "    </div>\n",
              "  </div>\n",
              "  "
            ],
            "text/plain": [
              "       Item_Weight  ...  Outlet_Type_Supermarket Type3\n",
              "count  8523.000000  ...                    8523.000000\n",
              "mean     12.857645  ...                       0.109703\n",
              "std       4.226124  ...                       0.312538\n",
              "min       4.555000  ...                       0.000000\n",
              "25%       9.310000  ...                       0.000000\n",
              "50%      12.857645  ...                       0.000000\n",
              "75%      16.000000  ...                       0.000000\n",
              "max      21.350000  ...                       1.000000\n",
              "\n",
              "[8 rows x 46 columns]"
            ]
          },
          "metadata": {},
          "execution_count": 68
        }
      ]
    },
    {
      "cell_type": "code",
      "metadata": {
        "id": "uclOpwf5eFMh"
      },
      "source": [
        "# We change the range of values to be between 0 and 1:"
      ],
      "execution_count": 25,
      "outputs": []
    },
    {
      "cell_type": "code",
      "metadata": {
        "id": "1WWrlPJRea67"
      },
      "source": [
        "for i in df.columns[1:]:\n",
        "  if df[i].max()>1 or df[i].min()<0:\n",
        "    df[i]=(df[i]-df[i].min())/(df[i].max()-df[i].min())"
      ],
      "execution_count": 69,
      "outputs": []
    },
    {
      "cell_type": "code",
      "metadata": {
        "colab": {
          "base_uri": "https://localhost:8080/",
          "height": 381
        },
        "id": "wowjPgmTpHX4",
        "outputId": "59b62f1c-ca14-4b2d-e929-cc525ed2c0dd"
      },
      "source": [
        "df.describe()"
      ],
      "execution_count": 70,
      "outputs": [
        {
          "output_type": "execute_result",
          "data": {
            "text/html": [
              "\n",
              "  <div id=\"df-08aee7e4-8603-43f5-8993-520a850ff2f6\">\n",
              "    <div class=\"colab-df-container\">\n",
              "      <div>\n",
              "<style scoped>\n",
              "    .dataframe tbody tr th:only-of-type {\n",
              "        vertical-align: middle;\n",
              "    }\n",
              "\n",
              "    .dataframe tbody tr th {\n",
              "        vertical-align: top;\n",
              "    }\n",
              "\n",
              "    .dataframe thead th {\n",
              "        text-align: right;\n",
              "    }\n",
              "</style>\n",
              "<table border=\"1\" class=\"dataframe\">\n",
              "  <thead>\n",
              "    <tr style=\"text-align: right;\">\n",
              "      <th></th>\n",
              "      <th>Item_Weight</th>\n",
              "      <th>Item_Visibility</th>\n",
              "      <th>Item_MRP</th>\n",
              "      <th>Outlet_Establishment_Year</th>\n",
              "      <th>Item_Outlet_Sales</th>\n",
              "      <th>Item_Fat_Content_LF</th>\n",
              "      <th>Item_Fat_Content_Low Fat</th>\n",
              "      <th>Item_Fat_Content_Regular</th>\n",
              "      <th>Item_Fat_Content_low fat</th>\n",
              "      <th>Item_Fat_Content_reg</th>\n",
              "      <th>Item_Type_Baking Goods</th>\n",
              "      <th>Item_Type_Breads</th>\n",
              "      <th>Item_Type_Breakfast</th>\n",
              "      <th>Item_Type_Canned</th>\n",
              "      <th>Item_Type_Dairy</th>\n",
              "      <th>Item_Type_Frozen Foods</th>\n",
              "      <th>Item_Type_Fruits and Vegetables</th>\n",
              "      <th>Item_Type_Hard Drinks</th>\n",
              "      <th>Item_Type_Health and Hygiene</th>\n",
              "      <th>Item_Type_Household</th>\n",
              "      <th>Item_Type_Meat</th>\n",
              "      <th>Item_Type_Others</th>\n",
              "      <th>Item_Type_Seafood</th>\n",
              "      <th>Item_Type_Snack Foods</th>\n",
              "      <th>Item_Type_Soft Drinks</th>\n",
              "      <th>Item_Type_Starchy Foods</th>\n",
              "      <th>Outlet_Identifier_OUT010</th>\n",
              "      <th>Outlet_Identifier_OUT013</th>\n",
              "      <th>Outlet_Identifier_OUT017</th>\n",
              "      <th>Outlet_Identifier_OUT018</th>\n",
              "      <th>Outlet_Identifier_OUT019</th>\n",
              "      <th>Outlet_Identifier_OUT027</th>\n",
              "      <th>Outlet_Identifier_OUT035</th>\n",
              "      <th>Outlet_Identifier_OUT045</th>\n",
              "      <th>Outlet_Identifier_OUT046</th>\n",
              "      <th>Outlet_Identifier_OUT049</th>\n",
              "      <th>Outlet_Size_High</th>\n",
              "      <th>Outlet_Size_Medium</th>\n",
              "      <th>Outlet_Size_Small</th>\n",
              "      <th>Outlet_Location_Type_Tier 1</th>\n",
              "      <th>Outlet_Location_Type_Tier 2</th>\n",
              "      <th>Outlet_Location_Type_Tier 3</th>\n",
              "      <th>Outlet_Type_Grocery Store</th>\n",
              "      <th>Outlet_Type_Supermarket Type1</th>\n",
              "      <th>Outlet_Type_Supermarket Type2</th>\n",
              "      <th>Outlet_Type_Supermarket Type3</th>\n",
              "    </tr>\n",
              "  </thead>\n",
              "  <tbody>\n",
              "    <tr>\n",
              "      <th>count</th>\n",
              "      <td>8523.000000</td>\n",
              "      <td>8523.000000</td>\n",
              "      <td>8523.000000</td>\n",
              "      <td>8523.000000</td>\n",
              "      <td>8523.000000</td>\n",
              "      <td>8523.000000</td>\n",
              "      <td>8523.000000</td>\n",
              "      <td>8523.000000</td>\n",
              "      <td>8523.000000</td>\n",
              "      <td>8523.000000</td>\n",
              "      <td>8523.000000</td>\n",
              "      <td>8523.000000</td>\n",
              "      <td>8523.000000</td>\n",
              "      <td>8523.000000</td>\n",
              "      <td>8523.000000</td>\n",
              "      <td>8523.000000</td>\n",
              "      <td>8523.000000</td>\n",
              "      <td>8523.000000</td>\n",
              "      <td>8523.000000</td>\n",
              "      <td>8523.000000</td>\n",
              "      <td>8523.000000</td>\n",
              "      <td>8523.000000</td>\n",
              "      <td>8523.000000</td>\n",
              "      <td>8523.000000</td>\n",
              "      <td>8523.000000</td>\n",
              "      <td>8523.000000</td>\n",
              "      <td>8523.000000</td>\n",
              "      <td>8523.000000</td>\n",
              "      <td>8523.000000</td>\n",
              "      <td>8523.000000</td>\n",
              "      <td>8523.000000</td>\n",
              "      <td>8523.000000</td>\n",
              "      <td>8523.000000</td>\n",
              "      <td>8523.000000</td>\n",
              "      <td>8523.000000</td>\n",
              "      <td>8523.000000</td>\n",
              "      <td>8523.000000</td>\n",
              "      <td>8523.000000</td>\n",
              "      <td>8523.000000</td>\n",
              "      <td>8523.000000</td>\n",
              "      <td>8523.000000</td>\n",
              "      <td>8523.000000</td>\n",
              "      <td>8523.000000</td>\n",
              "      <td>8523.000000</td>\n",
              "      <td>8523.000000</td>\n",
              "      <td>8523.000000</td>\n",
              "    </tr>\n",
              "    <tr>\n",
              "      <th>mean</th>\n",
              "      <td>0.494352</td>\n",
              "      <td>0.066132</td>\n",
              "      <td>0.465635</td>\n",
              "      <td>0.534661</td>\n",
              "      <td>0.164551</td>\n",
              "      <td>0.037076</td>\n",
              "      <td>0.597090</td>\n",
              "      <td>0.338965</td>\n",
              "      <td>0.013141</td>\n",
              "      <td>0.013728</td>\n",
              "      <td>0.076030</td>\n",
              "      <td>0.029450</td>\n",
              "      <td>0.012906</td>\n",
              "      <td>0.076147</td>\n",
              "      <td>0.080019</td>\n",
              "      <td>0.100434</td>\n",
              "      <td>0.144550</td>\n",
              "      <td>0.025109</td>\n",
              "      <td>0.061011</td>\n",
              "      <td>0.106770</td>\n",
              "      <td>0.049865</td>\n",
              "      <td>0.019829</td>\n",
              "      <td>0.007509</td>\n",
              "      <td>0.140795</td>\n",
              "      <td>0.052212</td>\n",
              "      <td>0.017365</td>\n",
              "      <td>0.065118</td>\n",
              "      <td>0.109351</td>\n",
              "      <td>0.108647</td>\n",
              "      <td>0.108882</td>\n",
              "      <td>0.061950</td>\n",
              "      <td>0.109703</td>\n",
              "      <td>0.109117</td>\n",
              "      <td>0.108999</td>\n",
              "      <td>0.109117</td>\n",
              "      <td>0.109117</td>\n",
              "      <td>0.109351</td>\n",
              "      <td>0.610466</td>\n",
              "      <td>0.280183</td>\n",
              "      <td>0.280183</td>\n",
              "      <td>0.326763</td>\n",
              "      <td>0.393054</td>\n",
              "      <td>0.127068</td>\n",
              "      <td>0.654347</td>\n",
              "      <td>0.108882</td>\n",
              "      <td>0.109703</td>\n",
              "    </tr>\n",
              "    <tr>\n",
              "      <th>std</th>\n",
              "      <td>0.251630</td>\n",
              "      <td>0.051598</td>\n",
              "      <td>0.264327</td>\n",
              "      <td>0.348823</td>\n",
              "      <td>0.130729</td>\n",
              "      <td>0.188960</td>\n",
              "      <td>0.490512</td>\n",
              "      <td>0.473386</td>\n",
              "      <td>0.113885</td>\n",
              "      <td>0.116365</td>\n",
              "      <td>0.265061</td>\n",
              "      <td>0.169073</td>\n",
              "      <td>0.112877</td>\n",
              "      <td>0.265249</td>\n",
              "      <td>0.271338</td>\n",
              "      <td>0.300596</td>\n",
              "      <td>0.351667</td>\n",
              "      <td>0.156464</td>\n",
              "      <td>0.239365</td>\n",
              "      <td>0.308839</td>\n",
              "      <td>0.217679</td>\n",
              "      <td>0.139420</td>\n",
              "      <td>0.086334</td>\n",
              "      <td>0.347831</td>\n",
              "      <td>0.222467</td>\n",
              "      <td>0.130634</td>\n",
              "      <td>0.246748</td>\n",
              "      <td>0.312098</td>\n",
              "      <td>0.311214</td>\n",
              "      <td>0.311509</td>\n",
              "      <td>0.241079</td>\n",
              "      <td>0.312538</td>\n",
              "      <td>0.311804</td>\n",
              "      <td>0.311656</td>\n",
              "      <td>0.311804</td>\n",
              "      <td>0.311804</td>\n",
              "      <td>0.312098</td>\n",
              "      <td>0.487673</td>\n",
              "      <td>0.449115</td>\n",
              "      <td>0.449115</td>\n",
              "      <td>0.469057</td>\n",
              "      <td>0.488457</td>\n",
              "      <td>0.333069</td>\n",
              "      <td>0.475609</td>\n",
              "      <td>0.311509</td>\n",
              "      <td>0.312538</td>\n",
              "    </tr>\n",
              "    <tr>\n",
              "      <th>min</th>\n",
              "      <td>0.000000</td>\n",
              "      <td>0.000000</td>\n",
              "      <td>0.000000</td>\n",
              "      <td>0.000000</td>\n",
              "      <td>0.000000</td>\n",
              "      <td>0.000000</td>\n",
              "      <td>0.000000</td>\n",
              "      <td>0.000000</td>\n",
              "      <td>0.000000</td>\n",
              "      <td>0.000000</td>\n",
              "      <td>0.000000</td>\n",
              "      <td>0.000000</td>\n",
              "      <td>0.000000</td>\n",
              "      <td>0.000000</td>\n",
              "      <td>0.000000</td>\n",
              "      <td>0.000000</td>\n",
              "      <td>0.000000</td>\n",
              "      <td>0.000000</td>\n",
              "      <td>0.000000</td>\n",
              "      <td>0.000000</td>\n",
              "      <td>0.000000</td>\n",
              "      <td>0.000000</td>\n",
              "      <td>0.000000</td>\n",
              "      <td>0.000000</td>\n",
              "      <td>0.000000</td>\n",
              "      <td>0.000000</td>\n",
              "      <td>0.000000</td>\n",
              "      <td>0.000000</td>\n",
              "      <td>0.000000</td>\n",
              "      <td>0.000000</td>\n",
              "      <td>0.000000</td>\n",
              "      <td>0.000000</td>\n",
              "      <td>0.000000</td>\n",
              "      <td>0.000000</td>\n",
              "      <td>0.000000</td>\n",
              "      <td>0.000000</td>\n",
              "      <td>0.000000</td>\n",
              "      <td>0.000000</td>\n",
              "      <td>0.000000</td>\n",
              "      <td>0.000000</td>\n",
              "      <td>0.000000</td>\n",
              "      <td>0.000000</td>\n",
              "      <td>0.000000</td>\n",
              "      <td>0.000000</td>\n",
              "      <td>0.000000</td>\n",
              "      <td>0.000000</td>\n",
              "    </tr>\n",
              "    <tr>\n",
              "      <th>25%</th>\n",
              "      <td>0.283120</td>\n",
              "      <td>0.026989</td>\n",
              "      <td>0.265437</td>\n",
              "      <td>0.083333</td>\n",
              "      <td>0.061359</td>\n",
              "      <td>0.000000</td>\n",
              "      <td>0.000000</td>\n",
              "      <td>0.000000</td>\n",
              "      <td>0.000000</td>\n",
              "      <td>0.000000</td>\n",
              "      <td>0.000000</td>\n",
              "      <td>0.000000</td>\n",
              "      <td>0.000000</td>\n",
              "      <td>0.000000</td>\n",
              "      <td>0.000000</td>\n",
              "      <td>0.000000</td>\n",
              "      <td>0.000000</td>\n",
              "      <td>0.000000</td>\n",
              "      <td>0.000000</td>\n",
              "      <td>0.000000</td>\n",
              "      <td>0.000000</td>\n",
              "      <td>0.000000</td>\n",
              "      <td>0.000000</td>\n",
              "      <td>0.000000</td>\n",
              "      <td>0.000000</td>\n",
              "      <td>0.000000</td>\n",
              "      <td>0.000000</td>\n",
              "      <td>0.000000</td>\n",
              "      <td>0.000000</td>\n",
              "      <td>0.000000</td>\n",
              "      <td>0.000000</td>\n",
              "      <td>0.000000</td>\n",
              "      <td>0.000000</td>\n",
              "      <td>0.000000</td>\n",
              "      <td>0.000000</td>\n",
              "      <td>0.000000</td>\n",
              "      <td>0.000000</td>\n",
              "      <td>0.000000</td>\n",
              "      <td>0.000000</td>\n",
              "      <td>0.000000</td>\n",
              "      <td>0.000000</td>\n",
              "      <td>0.000000</td>\n",
              "      <td>0.000000</td>\n",
              "      <td>0.000000</td>\n",
              "      <td>0.000000</td>\n",
              "      <td>0.000000</td>\n",
              "    </tr>\n",
              "    <tr>\n",
              "      <th>50%</th>\n",
              "      <td>0.494352</td>\n",
              "      <td>0.053931</td>\n",
              "      <td>0.474209</td>\n",
              "      <td>0.583333</td>\n",
              "      <td>0.134908</td>\n",
              "      <td>0.000000</td>\n",
              "      <td>1.000000</td>\n",
              "      <td>0.000000</td>\n",
              "      <td>0.000000</td>\n",
              "      <td>0.000000</td>\n",
              "      <td>0.000000</td>\n",
              "      <td>0.000000</td>\n",
              "      <td>0.000000</td>\n",
              "      <td>0.000000</td>\n",
              "      <td>0.000000</td>\n",
              "      <td>0.000000</td>\n",
              "      <td>0.000000</td>\n",
              "      <td>0.000000</td>\n",
              "      <td>0.000000</td>\n",
              "      <td>0.000000</td>\n",
              "      <td>0.000000</td>\n",
              "      <td>0.000000</td>\n",
              "      <td>0.000000</td>\n",
              "      <td>0.000000</td>\n",
              "      <td>0.000000</td>\n",
              "      <td>0.000000</td>\n",
              "      <td>0.000000</td>\n",
              "      <td>0.000000</td>\n",
              "      <td>0.000000</td>\n",
              "      <td>0.000000</td>\n",
              "      <td>0.000000</td>\n",
              "      <td>0.000000</td>\n",
              "      <td>0.000000</td>\n",
              "      <td>0.000000</td>\n",
              "      <td>0.000000</td>\n",
              "      <td>0.000000</td>\n",
              "      <td>0.000000</td>\n",
              "      <td>1.000000</td>\n",
              "      <td>0.000000</td>\n",
              "      <td>0.000000</td>\n",
              "      <td>0.000000</td>\n",
              "      <td>0.000000</td>\n",
              "      <td>0.000000</td>\n",
              "      <td>1.000000</td>\n",
              "      <td>0.000000</td>\n",
              "      <td>0.000000</td>\n",
              "    </tr>\n",
              "    <tr>\n",
              "      <th>75%</th>\n",
              "      <td>0.681453</td>\n",
              "      <td>0.094585</td>\n",
              "      <td>0.655156</td>\n",
              "      <td>0.791667</td>\n",
              "      <td>0.235030</td>\n",
              "      <td>0.000000</td>\n",
              "      <td>1.000000</td>\n",
              "      <td>1.000000</td>\n",
              "      <td>0.000000</td>\n",
              "      <td>0.000000</td>\n",
              "      <td>0.000000</td>\n",
              "      <td>0.000000</td>\n",
              "      <td>0.000000</td>\n",
              "      <td>0.000000</td>\n",
              "      <td>0.000000</td>\n",
              "      <td>0.000000</td>\n",
              "      <td>0.000000</td>\n",
              "      <td>0.000000</td>\n",
              "      <td>0.000000</td>\n",
              "      <td>0.000000</td>\n",
              "      <td>0.000000</td>\n",
              "      <td>0.000000</td>\n",
              "      <td>0.000000</td>\n",
              "      <td>0.000000</td>\n",
              "      <td>0.000000</td>\n",
              "      <td>0.000000</td>\n",
              "      <td>0.000000</td>\n",
              "      <td>0.000000</td>\n",
              "      <td>0.000000</td>\n",
              "      <td>0.000000</td>\n",
              "      <td>0.000000</td>\n",
              "      <td>0.000000</td>\n",
              "      <td>0.000000</td>\n",
              "      <td>0.000000</td>\n",
              "      <td>0.000000</td>\n",
              "      <td>0.000000</td>\n",
              "      <td>0.000000</td>\n",
              "      <td>1.000000</td>\n",
              "      <td>1.000000</td>\n",
              "      <td>1.000000</td>\n",
              "      <td>1.000000</td>\n",
              "      <td>1.000000</td>\n",
              "      <td>0.000000</td>\n",
              "      <td>1.000000</td>\n",
              "      <td>0.000000</td>\n",
              "      <td>0.000000</td>\n",
              "    </tr>\n",
              "    <tr>\n",
              "      <th>max</th>\n",
              "      <td>1.000000</td>\n",
              "      <td>0.328391</td>\n",
              "      <td>1.000000</td>\n",
              "      <td>1.000000</td>\n",
              "      <td>1.000000</td>\n",
              "      <td>1.000000</td>\n",
              "      <td>1.000000</td>\n",
              "      <td>1.000000</td>\n",
              "      <td>1.000000</td>\n",
              "      <td>1.000000</td>\n",
              "      <td>1.000000</td>\n",
              "      <td>1.000000</td>\n",
              "      <td>1.000000</td>\n",
              "      <td>1.000000</td>\n",
              "      <td>1.000000</td>\n",
              "      <td>1.000000</td>\n",
              "      <td>1.000000</td>\n",
              "      <td>1.000000</td>\n",
              "      <td>1.000000</td>\n",
              "      <td>1.000000</td>\n",
              "      <td>1.000000</td>\n",
              "      <td>1.000000</td>\n",
              "      <td>1.000000</td>\n",
              "      <td>1.000000</td>\n",
              "      <td>1.000000</td>\n",
              "      <td>1.000000</td>\n",
              "      <td>1.000000</td>\n",
              "      <td>1.000000</td>\n",
              "      <td>1.000000</td>\n",
              "      <td>1.000000</td>\n",
              "      <td>1.000000</td>\n",
              "      <td>1.000000</td>\n",
              "      <td>1.000000</td>\n",
              "      <td>1.000000</td>\n",
              "      <td>1.000000</td>\n",
              "      <td>1.000000</td>\n",
              "      <td>1.000000</td>\n",
              "      <td>1.000000</td>\n",
              "      <td>1.000000</td>\n",
              "      <td>1.000000</td>\n",
              "      <td>1.000000</td>\n",
              "      <td>1.000000</td>\n",
              "      <td>1.000000</td>\n",
              "      <td>1.000000</td>\n",
              "      <td>1.000000</td>\n",
              "      <td>1.000000</td>\n",
              "    </tr>\n",
              "  </tbody>\n",
              "</table>\n",
              "</div>\n",
              "      <button class=\"colab-df-convert\" onclick=\"convertToInteractive('df-08aee7e4-8603-43f5-8993-520a850ff2f6')\"\n",
              "              title=\"Convert this dataframe to an interactive table.\"\n",
              "              style=\"display:none;\">\n",
              "        \n",
              "  <svg xmlns=\"http://www.w3.org/2000/svg\" height=\"24px\"viewBox=\"0 0 24 24\"\n",
              "       width=\"24px\">\n",
              "    <path d=\"M0 0h24v24H0V0z\" fill=\"none\"/>\n",
              "    <path d=\"M18.56 5.44l.94 2.06.94-2.06 2.06-.94-2.06-.94-.94-2.06-.94 2.06-2.06.94zm-11 1L8.5 8.5l.94-2.06 2.06-.94-2.06-.94L8.5 2.5l-.94 2.06-2.06.94zm10 10l.94 2.06.94-2.06 2.06-.94-2.06-.94-.94-2.06-.94 2.06-2.06.94z\"/><path d=\"M17.41 7.96l-1.37-1.37c-.4-.4-.92-.59-1.43-.59-.52 0-1.04.2-1.43.59L10.3 9.45l-7.72 7.72c-.78.78-.78 2.05 0 2.83L4 21.41c.39.39.9.59 1.41.59.51 0 1.02-.2 1.41-.59l7.78-7.78 2.81-2.81c.8-.78.8-2.07 0-2.86zM5.41 20L4 18.59l7.72-7.72 1.47 1.35L5.41 20z\"/>\n",
              "  </svg>\n",
              "      </button>\n",
              "      \n",
              "  <style>\n",
              "    .colab-df-container {\n",
              "      display:flex;\n",
              "      flex-wrap:wrap;\n",
              "      gap: 12px;\n",
              "    }\n",
              "\n",
              "    .colab-df-convert {\n",
              "      background-color: #E8F0FE;\n",
              "      border: none;\n",
              "      border-radius: 50%;\n",
              "      cursor: pointer;\n",
              "      display: none;\n",
              "      fill: #1967D2;\n",
              "      height: 32px;\n",
              "      padding: 0 0 0 0;\n",
              "      width: 32px;\n",
              "    }\n",
              "\n",
              "    .colab-df-convert:hover {\n",
              "      background-color: #E2EBFA;\n",
              "      box-shadow: 0px 1px 2px rgba(60, 64, 67, 0.3), 0px 1px 3px 1px rgba(60, 64, 67, 0.15);\n",
              "      fill: #174EA6;\n",
              "    }\n",
              "\n",
              "    [theme=dark] .colab-df-convert {\n",
              "      background-color: #3B4455;\n",
              "      fill: #D2E3FC;\n",
              "    }\n",
              "\n",
              "    [theme=dark] .colab-df-convert:hover {\n",
              "      background-color: #434B5C;\n",
              "      box-shadow: 0px 1px 3px 1px rgba(0, 0, 0, 0.15);\n",
              "      filter: drop-shadow(0px 1px 2px rgba(0, 0, 0, 0.3));\n",
              "      fill: #FFFFFF;\n",
              "    }\n",
              "  </style>\n",
              "\n",
              "      <script>\n",
              "        const buttonEl =\n",
              "          document.querySelector('#df-08aee7e4-8603-43f5-8993-520a850ff2f6 button.colab-df-convert');\n",
              "        buttonEl.style.display =\n",
              "          google.colab.kernel.accessAllowed ? 'block' : 'none';\n",
              "\n",
              "        async function convertToInteractive(key) {\n",
              "          const element = document.querySelector('#df-08aee7e4-8603-43f5-8993-520a850ff2f6');\n",
              "          const dataTable =\n",
              "            await google.colab.kernel.invokeFunction('convertToInteractive',\n",
              "                                                     [key], {});\n",
              "          if (!dataTable) return;\n",
              "\n",
              "          const docLinkHtml = 'Like what you see? Visit the ' +\n",
              "            '<a target=\"_blank\" href=https://colab.research.google.com/notebooks/data_table.ipynb>data table notebook</a>'\n",
              "            + ' to learn more about interactive tables.';\n",
              "          element.innerHTML = '';\n",
              "          dataTable['output_type'] = 'display_data';\n",
              "          await google.colab.output.renderOutput(dataTable, element);\n",
              "          const docLink = document.createElement('div');\n",
              "          docLink.innerHTML = docLinkHtml;\n",
              "          element.appendChild(docLink);\n",
              "        }\n",
              "      </script>\n",
              "    </div>\n",
              "  </div>\n",
              "  "
            ],
            "text/plain": [
              "       Item_Weight  ...  Outlet_Type_Supermarket Type3\n",
              "count  8523.000000  ...                    8523.000000\n",
              "mean      0.494352  ...                       0.109703\n",
              "std       0.251630  ...                       0.312538\n",
              "min       0.000000  ...                       0.000000\n",
              "25%       0.283120  ...                       0.000000\n",
              "50%       0.494352  ...                       0.000000\n",
              "75%       0.681453  ...                       0.000000\n",
              "max       1.000000  ...                       1.000000\n",
              "\n",
              "[8 rows x 46 columns]"
            ]
          },
          "metadata": {},
          "execution_count": 70
        }
      ]
    },
    {
      "cell_type": "code",
      "metadata": {
        "id": "S8xIIMY_gAVu"
      },
      "source": [
        "#Prepairing our train and test datasets:"
      ],
      "execution_count": 28,
      "outputs": []
    },
    {
      "cell_type": "code",
      "source": [
        "df=df.drop('Item_Identifier',axis=1)"
      ],
      "metadata": {
        "id": "T3UcreU37npR"
      },
      "execution_count": null,
      "outputs": []
    },
    {
      "cell_type": "markdown",
      "metadata": {
        "id": "OQBKuFfnVL9F"
      },
      "source": [
        "#Prepairing the train and test datas"
      ]
    },
    {
      "cell_type": "code",
      "metadata": {
        "id": "xvUm8S9bfXk8"
      },
      "source": [
        "import sklearn\n",
        "from sklearn.model_selection import  train_test_split\n",
        "from sklearn.metrics import accuracy_score"
      ],
      "execution_count": 325,
      "outputs": []
    },
    {
      "cell_type": "code",
      "metadata": {
        "id": "p7EuhfASge2P"
      },
      "source": [
        ""
      ],
      "execution_count": 325,
      "outputs": []
    },
    {
      "cell_type": "code",
      "metadata": {
        "id": "zlWXsGhFlwIE"
      },
      "source": [
        "Y=df.Item_Outlet_Sales"
      ],
      "execution_count": 326,
      "outputs": []
    },
    {
      "cell_type": "code",
      "metadata": {
        "id": "n22QEElffmh4"
      },
      "source": [
        "X=df.drop('Item_Outlet_Sales',axis=1)"
      ],
      "execution_count": 327,
      "outputs": []
    },
    {
      "cell_type": "code",
      "metadata": {
        "id": "WhVmjAoYlek7"
      },
      "source": [
        "X_train,X_test,y_train,y_test=train_test_split(X,Y,random_state=10,test_size=.2)"
      ],
      "execution_count": 328,
      "outputs": []
    },
    {
      "cell_type": "code",
      "metadata": {
        "colab": {
          "base_uri": "https://localhost:8080/"
        },
        "id": "06pMKChwmWeO",
        "outputId": "478cb982-0ab5-4625-8de2-11df494fe5dc"
      },
      "source": [
        "X_train.shape,y_train.shape"
      ],
      "execution_count": 329,
      "outputs": [
        {
          "output_type": "execute_result",
          "data": {
            "text/plain": [
              "((6818, 45), (6818,))"
            ]
          },
          "metadata": {},
          "execution_count": 329
        }
      ]
    },
    {
      "cell_type": "code",
      "metadata": {
        "colab": {
          "base_uri": "https://localhost:8080/"
        },
        "id": "WHoGH8VwmbER",
        "outputId": "d936e1df-34f9-472a-f12a-54378dbbd259"
      },
      "source": [
        "X_test.shape,y_test.shape"
      ],
      "execution_count": 330,
      "outputs": [
        {
          "output_type": "execute_result",
          "data": {
            "text/plain": [
              "((1705, 45), (1705,))"
            ]
          },
          "metadata": {},
          "execution_count": 330
        }
      ]
    },
    {
      "cell_type": "markdown",
      "source": [
        "#Pytorch"
      ],
      "metadata": {
        "id": "c7ALTKbTfMr-"
      }
    },
    {
      "cell_type": "code",
      "source": [
        "import os\n",
        "import torch\n",
        "from torch import nn\n",
        "from torch.utils.data import DataLoader\n",
        "from torchvision import datasets, transforms"
      ],
      "metadata": {
        "id": "kcTJKcSRfSWR"
      },
      "execution_count": 331,
      "outputs": []
    },
    {
      "cell_type": "code",
      "source": [
        "device = 'cuda' if torch.cuda.is_available() else 'cpu'\n",
        "print(f'Using {device} device')"
      ],
      "metadata": {
        "colab": {
          "base_uri": "https://localhost:8080/"
        },
        "id": "8gmXH3-6fMOd",
        "outputId": "20de83df-eeb6-4fa5-e661-cf301c9887e1"
      },
      "execution_count": 332,
      "outputs": [
        {
          "output_type": "stream",
          "name": "stdout",
          "text": [
            "Using cpu device\n"
          ]
        }
      ]
    },
    {
      "cell_type": "markdown",
      "source": [
        "##Prepairing the dataset for torch"
      ],
      "metadata": {
        "id": "9biQisddiksp"
      }
    },
    {
      "cell_type": "code",
      "source": [
        "x_train=torch.from_numpy(X_train.to_numpy()).float()"
      ],
      "metadata": {
        "id": "Q0Q5CZBXirpR"
      },
      "execution_count": 333,
      "outputs": []
    },
    {
      "cell_type": "code",
      "source": [
        "x_test=torch.from_numpy(X_test.to_numpy()).float()"
      ],
      "metadata": {
        "id": "9YKF94vbjI-9"
      },
      "execution_count": 334,
      "outputs": []
    },
    {
      "cell_type": "code",
      "source": [
        "y_train=torch.from_numpy(y_train.to_numpy()).float()"
      ],
      "metadata": {
        "id": "W0zWlF-PjRsN"
      },
      "execution_count": 335,
      "outputs": []
    },
    {
      "cell_type": "code",
      "source": [
        "y_test=torch.from_numpy(y_test.to_numpy()).float()"
      ],
      "metadata": {
        "id": "gAdxZdtpjceD"
      },
      "execution_count": 336,
      "outputs": []
    },
    {
      "cell_type": "code",
      "source": [
        ""
      ],
      "metadata": {
        "id": "4ixhr8qmnvUQ"
      },
      "execution_count": 336,
      "outputs": []
    },
    {
      "cell_type": "markdown",
      "source": [
        "##Torch_NN Model:"
      ],
      "metadata": {
        "id": "np8bsqpfnv7A"
      }
    },
    {
      "cell_type": "code",
      "source": [
        "import torch.nn.functional as F "
      ],
      "metadata": {
        "id": "V1m3hbXpu5ZU"
      },
      "execution_count": 337,
      "outputs": []
    },
    {
      "cell_type": "code",
      "source": [
        "class NeuralNetwork(nn.Module):\n",
        "  def __init__(self,n_features):\n",
        "    super(NeuralNetwork,self).__init__()\n",
        "    self.fc1=nn.Linear(n_features,9)\n",
        "    self.fc2=nn.Linear(9,5)\n",
        "    self.fc3=nn.Linear(5,1)\n",
        "\n",
        "  def forward(self,x):\n",
        "    x=F.relu(self.fc1(x))\n",
        "    x=F.relu(self.fc2(x))\n",
        "    x=self.fc3(x)\n",
        "    return x"
      ],
      "metadata": {
        "id": "gfhAvMPZfvmy"
      },
      "execution_count": 338,
      "outputs": []
    },
    {
      "cell_type": "code",
      "source": [
        ""
      ],
      "metadata": {
        "id": "QHt2k8jtlj4P"
      },
      "execution_count": 338,
      "outputs": []
    },
    {
      "cell_type": "code",
      "source": [
        "#Loss Function: MSE\n",
        "criterion=nn.MSELoss()"
      ],
      "metadata": {
        "id": "OZeZwccLnt18"
      },
      "execution_count": 339,
      "outputs": []
    },
    {
      "cell_type": "code",
      "source": [
        "#optimizer: Adam\n",
        "from torch import optim\n",
        "model=NeuralNetwork(x_train.shape[1])\n",
        "optimizer=optim.Adam(model.parameters(),lr=0.001)"
      ],
      "metadata": {
        "id": "1Rwq30CEoRdF"
      },
      "execution_count": 340,
      "outputs": []
    },
    {
      "cell_type": "markdown",
      "source": [
        "###Computations on GPU"
      ],
      "metadata": {
        "id": "7OAbMrv6pTq9"
      }
    },
    {
      "cell_type": "code",
      "source": [
        "from torch.cuda import is_available\n",
        "device=torch.device('cuda:0' if torch.cuda.is_available() else 'cpu')"
      ],
      "metadata": {
        "id": "Dj5wQlZ2o2ps"
      },
      "execution_count": 341,
      "outputs": []
    },
    {
      "cell_type": "code",
      "source": [
        "x_train=x_train.to(device)\n",
        "y_train=y_train.to(device)\n",
        "x_test=x_test.to(device)\n",
        "y_test=y_test.to(device)"
      ],
      "metadata": {
        "id": "eH9m-LbapwPT"
      },
      "execution_count": 342,
      "outputs": []
    },
    {
      "cell_type": "code",
      "source": [
        "model=model.to(device)"
      ],
      "metadata": {
        "id": "Nx0-w_aGqE1Q"
      },
      "execution_count": 343,
      "outputs": []
    },
    {
      "cell_type": "code",
      "source": [
        "criterion=criterion.to(device)"
      ],
      "metadata": {
        "id": "ZsrIYQZBqKgY"
      },
      "execution_count": 344,
      "outputs": []
    },
    {
      "cell_type": "markdown",
      "source": [
        "##Now Training:"
      ],
      "metadata": {
        "id": "5fs2n53-rrD4"
      }
    },
    {
      "cell_type": "code",
      "source": [
        "train_hist=[]\n",
        "test_hist=[]\n",
        "for epochs in range(100):\n",
        "  y_pred=model(x_train)\n",
        "  y_pred=torch.squeeze(y_pred)\n",
        "  train_loss=criterion(y_pred, y_train)\n",
        "  if epochs%10==0:\n",
        "    y_test_pred=model(x_test)\n",
        "    y_test_pred=torch.squeeze(y_test_pred)\n",
        "    test_loss=criterion(y_test_pred, y_test)\n",
        "    test_hist=test_hist+[test_loss.cpu().detach().numpy()]\n",
        "\n",
        "    train_hist=train_hist+[train_loss.cpu().detach().numpy()]\n",
        "\n",
        "    print(f'epoch={epochs} , Train Loss={train_loss} , Test Loss={test_loss}')\n",
        "\n",
        "  optimizer.zero_grad()\n",
        "  train_loss.backward()\n",
        "  optimizer.step()\n"
      ],
      "metadata": {
        "colab": {
          "base_uri": "https://localhost:8080/"
        },
        "id": "4MRmGfUqrxx7",
        "outputId": "ae81e2d8-0dec-48a5-c59b-63144c64f8f5"
      },
      "execution_count": 345,
      "outputs": [
        {
          "output_type": "stream",
          "name": "stdout",
          "text": [
            "epoch=0 , Train Loss=0.016753455623984337 , Test Loss=0.017237864434719086\n",
            "epoch=10 , Train Loss=0.015634406358003616 , Test Loss=0.016061795875430107\n",
            "epoch=20 , Train Loss=0.014483928680419922 , Test Loss=0.014935595914721489\n",
            "epoch=30 , Train Loss=0.013206287287175655 , Test Loss=0.013625933788716793\n",
            "epoch=40 , Train Loss=0.011943038552999496 , Test Loss=0.01233601476997137\n",
            "epoch=50 , Train Loss=0.010929258540272713 , Test Loss=0.011304500512778759\n",
            "epoch=60 , Train Loss=0.010179705917835236 , Test Loss=0.010539909824728966\n",
            "epoch=70 , Train Loss=0.009501475840806961 , Test Loss=0.009802605025470257\n",
            "epoch=80 , Train Loss=0.008821827359497547 , Test Loss=0.009052164852619171\n",
            "epoch=90 , Train Loss=0.008155482821166515 , Test Loss=0.008289717137813568\n"
          ]
        }
      ]
    },
    {
      "cell_type": "markdown",
      "metadata": {
        "id": "7zC2Px6MVeBv"
      },
      "source": [
        "#Estimating the results:"
      ]
    },
    {
      "cell_type": "code",
      "metadata": {
        "id": "WSp3KnXPVTa0"
      },
      "source": [
        "y_pred=y_test_pred.cpu().detach().numpy()"
      ],
      "execution_count": 346,
      "outputs": []
    },
    {
      "cell_type": "code",
      "metadata": {
        "id": "T_MEravtChlh"
      },
      "source": [
        "y_test=y_test.cpu().detach().numpy()"
      ],
      "execution_count": 347,
      "outputs": []
    },
    {
      "cell_type": "code",
      "metadata": {
        "colab": {
          "base_uri": "https://localhost:8080/"
        },
        "id": "yQnmtLt3CrmC",
        "outputId": "bae5ddaa-4211-468f-99e9-d66dc09171d9"
      },
      "source": [
        "from sklearn.metrics import r2_score\n",
        "r2_score(y_test,y_pred)"
      ],
      "execution_count": 348,
      "outputs": [
        {
          "output_type": "execute_result",
          "data": {
            "text/plain": [
              "0.5241378454716756"
            ]
          },
          "metadata": {},
          "execution_count": 348
        }
      ]
    },
    {
      "cell_type": "code",
      "metadata": {
        "id": "1gzSF1wvuPdw",
        "colab": {
          "base_uri": "https://localhost:8080/",
          "height": 265
        },
        "outputId": "1728771e-e406-4be5-f8a7-e232ea1ad337"
      },
      "source": [
        "plt.plot(train_hist,label='train loss')\n",
        "plt.plot(test_hist,label='test loss')\n",
        "plt.legend( loc='upper right')\n",
        "plt.show()\n"
      ],
      "execution_count": 349,
      "outputs": [
        {
          "output_type": "display_data",
          "data": {
            "image/png": "[encoded data removed]",
            "text/plain": [
              "<Figure size 432x288 with 1 Axes>"
            ]
          },
          "metadata": {
            "needs_background": "light"
          }
        }
      ]
    },
    {
      "cell_type": "markdown",
      "source": [
        "#Save the Model:"
      ],
      "metadata": {
        "id": "EzLmdKcm8Sa8"
      }
    },
    {
      "cell_type": "code",
      "metadata": {
        "id": "bxcuBz4fq2kI"
      },
      "source": [
        "MODEL_PATH = '/content/drive/MyDrive/MachineLearing/torch/big_mart_sale/model.pth'\n",
        "torch.save(model, MODEL_PATH)"
      ],
      "execution_count": 350,
      "outputs": []
    },
    {
      "cell_type": "markdown",
      "source": [
        "##Load Model:"
      ],
      "metadata": {
        "id": "weXzWyHZ8q0r"
      }
    },
    {
      "cell_type": "code",
      "source": [
        "net = torch.load(MODEL_PATH)"
      ],
      "metadata": {
        "id": "90VOQmMA8mN5"
      },
      "execution_count": 351,
      "outputs": []
    },
    {
      "cell_type": "code",
      "source": [
        ""
      ],
      "metadata": {
        "id": "6KsVFC4S8t-d"
      },
      "execution_count": null,
      "outputs": []
    }
  ]
}